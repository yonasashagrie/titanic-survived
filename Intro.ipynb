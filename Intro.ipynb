{
 "cells": [
  {
   "cell_type": "code",
   "execution_count": null,
   "metadata": {},
   "outputs": [],
   "source": [
    "import pandas as pd"
   ]
  },
  {
   "cell_type": "code",
   "execution_count": null,
   "metadata": {},
   "outputs": [],
   "source": [
    "import pandas as pd\n",
    "import numpy as np\n",
    "\n",
    "data=pd.read_csv(\"train.csv\")\n",
    "test=pd.read_csv(\"test.csv\")\n",
    "test_ids=test[\"PassengerId\"]\n",
    "\n",
    "data.head(5)\n",
    "\n",
    "def clean(data):\n",
    "    data=data.drop([\"Ticket\",\"Cabin\",\"Name\",\"PassengerId\"], axis=1)\n",
    "    \n",
    "    cols=[\"SibSp\",\"Parch\",\"Fare\",\"Age\"]\n",
    "    for col in cols:\n",
    "        if data[col].dtype != int:\n",
    "            # Replace 'X' with NaN\n",
    "            data[col] = data[col].replace('X', np.nan)\n",
    "            \n",
    "            # Convert values to numeric, fill NaN with median, and change dtype to int\n",
    "            data[col] = data[col].apply(pd.to_numeric, errors='coerce').fillna(data[col].median()).astype(int)\n",
    "\n",
    "        \n",
    "\n",
    "        data[col].fillna(data[col].median(),inplace=True)\n",
    "        data[\"Embarked\"].fillna(\"u\",inplace=True)\n",
    "        \n",
    "    return data\n",
    "data=clean(data)\n",
    "test=clean(test) \n",
    "data[\"Sex\"] = data[\"Sex\"].apply(lambda x: 1 if x == \"male\" else 0) \n",
    "data[\"Embarked\"]=data[\"Embarked\"].apply(lambda x:0 if x ==\"C\" else(1 if x == \"Q\" else(2 if x == \"S\" else 3)))\n",
    "\n",
    "test[\"Sex\"] = test[\"Sex\"].apply(lambda x: 1 if x == \"male\" else 0)\n",
    "test[\"Embarked\"] = test[\"Embarked\"].apply(lambda x: 0 if x == \"C\" else (1 if x == \"Q\" else (2 if x == \"S\" else 3)))\n",
    "from sklearn.linear_model import LogisticRegression\n",
    "from sklearn.model_selection import train_test_split\n",
    "\n",
    "y=data[\"Survived\"]\n",
    "x=data.drop(\"Survived\", axis=1)\n",
    "x_train, x_val, y_train ,y_val =train_test_split(x,y, test_size=0.2 , random_state=42)\n",
    "\n",
    "clf=LogisticRegression(random_state=0,max_iter=1000).fit(x_train, y_train)\n",
    "\n",
    "predictions=clf.predict(x_val)\n",
    "from sklearn.metrics import accuracy_score\n",
    "accuracy_score(y_val,predictions)\n",
    "\n",
    "submission_preds = clf.predict(test)\n",
    "\n",
    "df=pd.DataFrame({\"PassengerId\": test_ids.values,\n",
    "                 \"survived\": submission_preds,\n",
    "                 })\n",
    "df.to_csv(\"submission.csv\", index=False)\n"
   ]
  },
  {
   "cell_type": "code",
   "execution_count": null,
   "metadata": {},
   "outputs": [],
   "source": [
    "# clf=LogisticRegression(random_state=0,max_iter=1000).fit(x_train, y_train)\n",
    "\n",
    "# predictions=clf.predict(x_val)\n",
    "# from sklearn.metrics import accuracy_score\n",
    "# accuracy_score(y_val,predictions)\n",
    "\n",
    "# submission_preds = clf.predict(test)\n",
    "\n",
    "# df=pd.DataFrame({\"PassengerId\": test_ids.values,\n",
    "#                  \"survived\": submission_preds,\n",
    "#                  })\n",
    "# df.to_csv(\"submission.csv\", index=False)"
   ]
  },
  {
   "cell_type": "markdown",
   "metadata": {},
   "source": []
  },
  {
   "cell_type": "code",
   "execution_count": null,
   "metadata": {},
   "outputs": [],
   "source": []
  }
 ],
 "metadata": {
  "kernelspec": {
   "display_name": "base",
   "language": "python",
   "name": "python3"
  },
  "language_info": {
   "codemirror_mode": {
    "name": "ipython",
    "version": 3
   },
   "file_extension": ".py",
   "mimetype": "text/x-python",
   "name": "python",
   "nbconvert_exporter": "python",
   "pygments_lexer": "ipython3",
   "version": "3.11.5"
  }
 },
 "nbformat": 4,
 "nbformat_minor": 2
}
